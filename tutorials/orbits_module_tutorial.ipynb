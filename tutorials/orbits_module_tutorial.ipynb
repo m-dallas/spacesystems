{
 "cells": [
  {
   "cell_type": "markdown",
   "id": "e9ef48c8-e7ca-4c6d-9f39-68c280fdd0b6",
   "metadata": {},
   "source": [
    "## Usage of `spacesystems.orbits` module"
   ]
  },
  {
   "cell_type": "code",
   "execution_count": 1,
   "id": "20a9927e-f3dc-4511-8b09-c87568314348",
   "metadata": {},
   "outputs": [],
   "source": [
    "from spacesystems import orbits\n",
    "from astropy import units as u\n",
    "from astropy import constants as const"
   ]
  },
  {
   "cell_type": "markdown",
   "id": "78520eba-3d01-4482-befd-0ecf1ec9bdad",
   "metadata": {},
   "source": [
    "## Basic Circular Orbit Functions"
   ]
  },
  {
   "cell_type": "code",
   "execution_count": 2,
   "id": "054c4ad8-f640-4a70-aa64-2e5f91c01121",
   "metadata": {},
   "outputs": [],
   "source": [
    "# Implement"
   ]
  },
  {
   "cell_type": "markdown",
   "id": "6c372f07-0562-4762-a88c-ff1a12a8e2ce",
   "metadata": {},
   "source": [
    "## Basic Elliptical Orbit Functions\n",
    "\n",
    "#### Using Molniya orbits as an example \n",
    "(values from section 4.2.2 of https://ntrs.nasa.gov/api/citations/19920000902/downloads/19920000902.pdf):"
   ]
  },
  {
   "cell_type": "code",
   "execution_count": 3,
   "id": "652f99bf-0511-4f52-b64e-1e14fcd3826d",
   "metadata": {},
   "outputs": [],
   "source": [
    "from spacesystems.orbits import elliptical\n",
    "\n",
    "# Define apogee and perigee radii\n",
    "r_ap = 39771000*u.m + const.R_earth\n",
    "r_per = 426000*u.m + const.R_earth"
   ]
  },
  {
   "cell_type": "markdown",
   "id": "dcddfa1c-5f9a-4785-b572-52ebd66c421b",
   "metadata": {},
   "source": [
    "#### Eccentricity"
   ]
  },
  {
   "cell_type": "code",
   "execution_count": 4,
   "id": "86a8999a-7409-4128-b5d5-3e6b2f682ba2",
   "metadata": {},
   "outputs": [
    {
     "name": "stdout",
     "output_type": "stream",
     "text": [
      "Eccentricity of Molniya orbit is ~0.74\n"
     ]
    }
   ],
   "source": [
    "e = elliptical.eccentricity(r_ap, r_per)\n",
    "\n",
    "print(f\"Eccentricity of Molniya orbit is ~{e:.2f}\")"
   ]
  },
  {
   "cell_type": "markdown",
   "id": "02d1ff9f-a616-4001-8509-43be163324c7",
   "metadata": {},
   "source": [
    "#### Semi-major and semi-minor axes"
   ]
  },
  {
   "cell_type": "code",
   "execution_count": 5,
   "id": "b8b815dc-1109-415a-a5c5-8e53e3df74af",
   "metadata": {},
   "outputs": [
    {
     "name": "stdout",
     "output_type": "stream",
     "text": [
      "Semi-major axis of Molniya orbit is ~26476.60 km, semi-minor axis is ~17720.13 km\n"
     ]
    }
   ],
   "source": [
    "a = elliptical.semi_major_axis(r_ap, r_per)\n",
    "b = elliptical.semi_minor_axis(r_ap, r_per)\n",
    "\n",
    "print(f\"Semi-major axis of Molniya orbit is ~{a.to(u.km):.2f}, semi-minor axis is ~{b.to(u.km):.2f}\")"
   ]
  },
  {
   "cell_type": "markdown",
   "id": "d6800353-eca1-459d-8134-ee3186b34d50",
   "metadata": {},
   "source": [
    "#### Period"
   ]
  },
  {
   "cell_type": "code",
   "execution_count": 6,
   "id": "106e0292-5fdf-4d6e-88b2-e810361c028c",
   "metadata": {},
   "outputs": [
    {
     "name": "stdout",
     "output_type": "stream",
     "text": [
      "Orbital period of Molniya orbit is ~11.91 h\n"
     ]
    }
   ],
   "source": [
    "period = orbits.period.period(const.M_earth, a)\n",
    "\n",
    "print(f\"Orbital period of Molniya orbit is ~{period.to(u.h):.2f}\")"
   ]
  },
  {
   "cell_type": "markdown",
   "id": "6b79ff5c-c6bf-4031-b096-a5aef9290def",
   "metadata": {},
   "source": [
    "#### Apogee and Perigee orbital velocities"
   ]
  },
  {
   "cell_type": "code",
   "execution_count": 7,
   "id": "c6a986e4-0dbf-4778-b9de-d64f1ccf454c",
   "metadata": {},
   "outputs": [
    {
     "name": "stdout",
     "output_type": "stream",
     "text": [
      "Orbital velocity at apogee of Molniya orbit is ~1.49 km / s, and ~10.10 km / s at perigee\n"
     ]
    }
   ],
   "source": [
    "v_ap = elliptical.apoapsis_velocity(const.M_earth, e, a)\n",
    "v_per = elliptical.periapsis_velocity(const.M_earth, e, a)\n",
    "\n",
    "print(f\"Orbital velocity at apogee of Molniya orbit is ~{v_ap.to(u.km/u.s):.2f}, and ~{v_per.to(u.km/u.s):.2f} at perigee\")"
   ]
  }
 ],
 "metadata": {
  "kernelspec": {
   "display_name": "Python 3 (ipykernel)",
   "language": "python",
   "name": "python3"
  },
  "language_info": {
   "codemirror_mode": {
    "name": "ipython",
    "version": 3
   },
   "file_extension": ".py",
   "mimetype": "text/x-python",
   "name": "python",
   "nbconvert_exporter": "python",
   "pygments_lexer": "ipython3",
   "version": "3.12.8"
  }
 },
 "nbformat": 4,
 "nbformat_minor": 5
}
